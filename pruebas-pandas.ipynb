{
 "cells": [
  {
   "cell_type": "code",
   "execution_count": 1,
   "metadata": {},
   "outputs": [
    {
     "name": "stdout",
     "output_type": "stream",
     "text": [
      "Collecting pandas\n",
      "  Downloading pandas-1.5.3-cp311-cp311-win_amd64.whl (10.3 MB)\n",
      "     ---------------------------------------- 10.3/10.3 MB 9.2 MB/s eta 0:00:00\n",
      "Requirement already satisfied: python-dateutil>=2.8.1 in c:\\users\\enrique\\appdata\\roaming\\python\\python311\\site-packages (from pandas) (2.8.2)\n",
      "Collecting pytz>=2020.1\n",
      "  Downloading pytz-2022.7.1-py2.py3-none-any.whl (499 kB)\n",
      "     ------------------------------------- 499.4/499.4 kB 15.3 MB/s eta 0:00:00\n",
      "Collecting numpy>=1.21.0\n",
      "  Downloading numpy-1.24.2-cp311-cp311-win_amd64.whl (14.8 MB)\n",
      "     --------------------------------------- 14.8/14.8 MB 13.6 MB/s eta 0:00:00\n",
      "Requirement already satisfied: six>=1.5 in c:\\users\\enrique\\appdata\\roaming\\python\\python311\\site-packages (from python-dateutil>=2.8.1->pandas) (1.16.0)\n",
      "Installing collected packages: pytz, numpy, pandas\n",
      "Successfully installed numpy-1.24.2 pandas-1.5.3 pytz-2022.7.1\n",
      "Note: you may need to restart the kernel to use updated packages.\n"
     ]
    },
    {
     "name": "stderr",
     "output_type": "stream",
     "text": [
      "  WARNING: The script f2py.exe is installed in 'c:\\Users\\Enrique\\AppData\\Local\\Programs\\Python\\Python311\\Scripts' which is not on PATH.\n",
      "  Consider adding this directory to PATH or, if you prefer to suppress this warning, use --no-warn-script-location.\n",
      "\n",
      "[notice] A new release of pip available: 22.3.1 -> 23.0.1\n",
      "[notice] To update, run: python.exe -m pip install --upgrade pip\n"
     ]
    }
   ],
   "source": [
    "pip install pandas"
   ]
  },
  {
   "cell_type": "code",
   "execution_count": 2,
   "metadata": {},
   "outputs": [
    {
     "name": "stdout",
     "output_type": "stream",
     "text": [
      "Package           Version\n",
      "----------------- --------\n",
      "asttokens         2.2.1\n",
      "backcall          0.2.0\n",
      "colorama          0.4.6\n",
      "comm              0.1.2\n",
      "debugpy           1.6.6\n",
      "decorator         5.1.1\n",
      "executing         1.2.0\n",
      "ipykernel         6.21.3\n",
      "ipython           8.11.0\n",
      "jedi              0.18.2\n",
      "jupyter_client    8.0.3\n",
      "jupyter_core      5.2.0\n",
      "matplotlib-inline 0.1.6\n",
      "nest-asyncio      1.5.6\n",
      "numpy             1.24.2\n",
      "packaging         23.0\n",
      "pandas            1.5.3\n",
      "parso             0.8.3\n",
      "pickleshare       0.7.5\n",
      "pip               22.3.1\n",
      "platformdirs      3.1.1\n",
      "prompt-toolkit    3.0.38\n",
      "psutil            5.9.4\n",
      "pure-eval         0.2.2\n",
      "Pygments          2.14.0\n",
      "python-dateutil   2.8.2\n",
      "pytz              2022.7.1\n",
      "pywin32           305\n",
      "pyzmq             25.0.1\n",
      "setuptools        65.5.0\n",
      "six               1.16.0\n",
      "stack-data        0.6.2\n",
      "tornado           6.2\n",
      "traitlets         5.9.0\n",
      "wcwidth           0.2.6\n",
      "Note: you may need to restart the kernel to use updated packages.\n"
     ]
    },
    {
     "name": "stderr",
     "output_type": "stream",
     "text": [
      "\n",
      "[notice] A new release of pip available: 22.3.1 -> 23.0.1\n",
      "[notice] To update, run: python.exe -m pip install --upgrade pip\n"
     ]
    }
   ],
   "source": [
    "pip list"
   ]
  },
  {
   "cell_type": "code",
   "execution_count": 3,
   "metadata": {},
   "outputs": [
    {
     "name": "stdout",
     "output_type": "stream",
     "text": [
      "Requirement already satisfied: pip in c:\\users\\enrique\\appdata\\local\\programs\\python\\python311\\lib\\site-packages (22.3.1)\n",
      "Collecting pip\n",
      "  Downloading pip-23.0.1-py3-none-any.whl (2.1 MB)\n",
      "     ---------------------------------------- 2.1/2.1 MB 10.1 MB/s eta 0:00:00\n",
      "Installing collected packages: pip\n",
      "  Attempting uninstall: pip\n",
      "    Found existing installation: pip 22.3.1\n",
      "    Uninstalling pip-22.3.1:\n",
      "      Successfully uninstalled pip-22.3.1\n",
      "Successfully installed pip-23.0.1\n",
      "Note: you may need to restart the kernel to use updated packages.\n"
     ]
    },
    {
     "name": "stderr",
     "output_type": "stream",
     "text": [
      "  WARNING: The scripts pip.exe, pip3.11.exe and pip3.exe are installed in 'c:\\Users\\Enrique\\AppData\\Local\\Programs\\Python\\Python311\\Scripts' which is not on PATH.\n",
      "  Consider adding this directory to PATH or, if you prefer to suppress this warning, use --no-warn-script-location.\n"
     ]
    }
   ],
   "source": [
    "pip install --upgrade pip"
   ]
  },
  {
   "cell_type": "code",
   "execution_count": 2,
   "metadata": {},
   "outputs": [],
   "source": [
    "import pandas as pd\n",
    "import csv"
   ]
  },
  {
   "cell_type": "code",
   "execution_count": 3,
   "metadata": {},
   "outputs": [],
   "source": [
    "#DATAFRAMES\n",
    "df = pd.read_csv(\"balance.csv\")"
   ]
  },
  {
   "cell_type": "code",
   "execution_count": 4,
   "metadata": {},
   "outputs": [
    {
     "data": {
      "text/html": [
       "<div>\n",
       "<style scoped>\n",
       "    .dataframe tbody tr th:only-of-type {\n",
       "        vertical-align: middle;\n",
       "    }\n",
       "\n",
       "    .dataframe tbody tr th {\n",
       "        vertical-align: top;\n",
       "    }\n",
       "\n",
       "    .dataframe thead th {\n",
       "        text-align: right;\n",
       "    }\n",
       "</style>\n",
       "<table border=\"1\" class=\"dataframe\">\n",
       "  <thead>\n",
       "    <tr style=\"text-align: right;\">\n",
       "      <th></th>\n",
       "      <th>Series_reference</th>\n",
       "      <th>Period</th>\n",
       "      <th>Data_value</th>\n",
       "      <th>Suppressed</th>\n",
       "      <th>STATUS</th>\n",
       "      <th>UNITS</th>\n",
       "      <th>MAGNTUDE</th>\n",
       "      <th>Subject</th>\n",
       "      <th>Group</th>\n",
       "      <th>Series_title_1</th>\n",
       "    </tr>\n",
       "  </thead>\n",
       "  <tbody>\n",
       "    <tr>\n",
       "      <th>0</th>\n",
       "      <td>BOPQ.S06AC000000000A</td>\n",
       "      <td>1971.06</td>\n",
       "      <td>426.0</td>\n",
       "      <td>NaN</td>\n",
       "      <td>F</td>\n",
       "      <td>Dollars</td>\n",
       "      <td>6</td>\n",
       "      <td>Balance of Payments - BOP</td>\n",
       "      <td>BPM6 Quarterly, Balance of payments major comp...</td>\n",
       "      <td>Actual</td>\n",
       "    </tr>\n",
       "  </tbody>\n",
       "</table>\n",
       "</div>"
      ],
      "text/plain": [
       "       Series_reference   Period  Data_value  Suppressed STATUS    UNITS  \\\n",
       "0  BOPQ.S06AC000000000A  1971.06       426.0         NaN      F  Dollars   \n",
       "\n",
       "   MAGNTUDE                    Subject  \\\n",
       "0         6  Balance of Payments - BOP   \n",
       "\n",
       "                                               Group Series_title_1  \n",
       "0  BPM6 Quarterly, Balance of payments major comp...         Actual  "
      ]
     },
     "execution_count": 4,
     "metadata": {},
     "output_type": "execute_result"
    }
   ],
   "source": [
    "df.head(1)"
   ]
  },
  {
   "cell_type": "code",
   "execution_count": 34,
   "metadata": {},
   "outputs": [
    {
     "name": "stderr",
     "output_type": "stream",
     "text": [
      "\n",
      "KeyboardInterrupt\n",
      "\n"
     ]
    }
   ],
   "source": [
    "#df['Subject'] = df['Subject'].to_string() #astype(str)"
   ]
  },
  {
   "cell_type": "code",
   "execution_count": 6,
   "metadata": {},
   "outputs": [
    {
     "data": {
      "text/plain": [
       "Series_reference     object\n",
       "Period              float64\n",
       "Data_value          float64\n",
       "Suppressed          float64\n",
       "STATUS               object\n",
       "UNITS                object\n",
       "MAGNTUDE              int64\n",
       "Subject              object\n",
       "Group                object\n",
       "Series_title_1       object\n",
       "dtype: object"
      ]
     },
     "execution_count": 6,
     "metadata": {},
     "output_type": "execute_result"
    }
   ],
   "source": [
    "df.dtypes"
   ]
  },
  {
   "cell_type": "code",
   "execution_count": 7,
   "metadata": {},
   "outputs": [
    {
     "data": {
      "text/plain": [
       "array(['Actual', 'Seasonally adjusted', 'Trend'], dtype=object)"
      ]
     },
     "execution_count": 7,
     "metadata": {},
     "output_type": "execute_result"
    }
   ],
   "source": [
    "df[\"Series_title_1\"].unique()"
   ]
  },
  {
   "cell_type": "code",
   "execution_count": 15,
   "metadata": {},
   "outputs": [
    {
     "data": {
      "text/html": [
       "<div>\n",
       "<style scoped>\n",
       "    .dataframe tbody tr th:only-of-type {\n",
       "        vertical-align: middle;\n",
       "    }\n",
       "\n",
       "    .dataframe tbody tr th {\n",
       "        vertical-align: top;\n",
       "    }\n",
       "\n",
       "    .dataframe thead th {\n",
       "        text-align: right;\n",
       "    }\n",
       "</style>\n",
       "<table border=\"1\" class=\"dataframe\">\n",
       "  <thead>\n",
       "    <tr style=\"text-align: right;\">\n",
       "      <th></th>\n",
       "      <th>Period</th>\n",
       "      <th>Data_value</th>\n",
       "    </tr>\n",
       "  </thead>\n",
       "  <tbody>\n",
       "    <tr>\n",
       "      <th>0</th>\n",
       "      <td>1971.06</td>\n",
       "      <td>426.0</td>\n",
       "    </tr>\n",
       "    <tr>\n",
       "      <th>1</th>\n",
       "      <td>1971.09</td>\n",
       "      <td>435.0</td>\n",
       "    </tr>\n",
       "  </tbody>\n",
       "</table>\n",
       "</div>"
      ],
      "text/plain": [
       "    Period  Data_value\n",
       "0  1971.06       426.0\n",
       "1  1971.09       435.0"
      ]
     },
     "execution_count": 15,
     "metadata": {},
     "output_type": "execute_result"
    }
   ],
   "source": [
    "df[[\"Period\",\"Data_value\"]].head(2)"
   ]
  },
  {
   "cell_type": "code",
   "execution_count": 8,
   "metadata": {},
   "outputs": [
    {
     "data": {
      "text/html": [
       "<div>\n",
       "<style scoped>\n",
       "    .dataframe tbody tr th:only-of-type {\n",
       "        vertical-align: middle;\n",
       "    }\n",
       "\n",
       "    .dataframe tbody tr th {\n",
       "        vertical-align: top;\n",
       "    }\n",
       "\n",
       "    .dataframe thead th {\n",
       "        text-align: right;\n",
       "    }\n",
       "</style>\n",
       "<table border=\"1\" class=\"dataframe\">\n",
       "  <thead>\n",
       "    <tr style=\"text-align: right;\">\n",
       "      <th></th>\n",
       "      <th>Series_reference</th>\n",
       "      <th>Period</th>\n",
       "      <th>Data_value</th>\n",
       "      <th>Suppressed</th>\n",
       "      <th>STATUS</th>\n",
       "      <th>UNITS</th>\n",
       "      <th>MAGNTUDE</th>\n",
       "      <th>Subject</th>\n",
       "      <th>Group</th>\n",
       "      <th>Series_title_1</th>\n",
       "    </tr>\n",
       "  </thead>\n",
       "  <tbody>\n",
       "    <tr>\n",
       "      <th>118</th>\n",
       "      <td>BOPQ.S06AC000000000A</td>\n",
       "      <td>2000.12</td>\n",
       "      <td>12820.0</td>\n",
       "      <td>NaN</td>\n",
       "      <td>F</td>\n",
       "      <td>Dollars</td>\n",
       "      <td>6</td>\n",
       "      <td>Balance of Payments - BOP</td>\n",
       "      <td>BPM6 Quarterly, Balance of payments major comp...</td>\n",
       "      <td>Actual</td>\n",
       "    </tr>\n",
       "    <tr>\n",
       "      <th>325</th>\n",
       "      <td>BOPQ.S06AC000000000B</td>\n",
       "      <td>2000.12</td>\n",
       "      <td>0.0</td>\n",
       "      <td>NaN</td>\n",
       "      <td>F</td>\n",
       "      <td>Dollars</td>\n",
       "      <td>6</td>\n",
       "      <td>Balance of Payments - BOP</td>\n",
       "      <td>BPM6 Quarterly, Balance of payments major comp...</td>\n",
       "      <td>Actual</td>\n",
       "    </tr>\n",
       "  </tbody>\n",
       "</table>\n",
       "</div>"
      ],
      "text/plain": [
       "         Series_reference   Period  Data_value  Suppressed STATUS    UNITS  \\\n",
       "118  BOPQ.S06AC000000000A  2000.12     12820.0         NaN      F  Dollars   \n",
       "325  BOPQ.S06AC000000000B  2000.12         0.0         NaN      F  Dollars   \n",
       "\n",
       "     MAGNTUDE                    Subject  \\\n",
       "118         6  Balance of Payments - BOP   \n",
       "325         6  Balance of Payments - BOP   \n",
       "\n",
       "                                                 Group Series_title_1  \n",
       "118  BPM6 Quarterly, Balance of payments major comp...         Actual  \n",
       "325  BPM6 Quarterly, Balance of payments major comp...         Actual  "
      ]
     },
     "execution_count": 8,
     "metadata": {},
     "output_type": "execute_result"
    }
   ],
   "source": [
    "#df[(df.STATUS==\"C\")]\n",
    "df[(df.Period==2000.12)].head(2)"
   ]
  },
  {
   "cell_type": "code",
   "execution_count": 9,
   "metadata": {},
   "outputs": [],
   "source": [
    "df.loc[(df.Period==2000.12), \"MAGNTUDE\"] = 100"
   ]
  },
  {
   "cell_type": "code",
   "execution_count": 10,
   "metadata": {},
   "outputs": [
    {
     "data": {
      "text/html": [
       "<div>\n",
       "<style scoped>\n",
       "    .dataframe tbody tr th:only-of-type {\n",
       "        vertical-align: middle;\n",
       "    }\n",
       "\n",
       "    .dataframe tbody tr th {\n",
       "        vertical-align: top;\n",
       "    }\n",
       "\n",
       "    .dataframe thead th {\n",
       "        text-align: right;\n",
       "    }\n",
       "</style>\n",
       "<table border=\"1\" class=\"dataframe\">\n",
       "  <thead>\n",
       "    <tr style=\"text-align: right;\">\n",
       "      <th></th>\n",
       "      <th>Series_reference</th>\n",
       "      <th>Period</th>\n",
       "      <th>Data_value</th>\n",
       "      <th>Suppressed</th>\n",
       "      <th>STATUS</th>\n",
       "      <th>UNITS</th>\n",
       "      <th>MAGNTUDE</th>\n",
       "      <th>Subject</th>\n",
       "      <th>Group</th>\n",
       "      <th>Series_title_1</th>\n",
       "    </tr>\n",
       "  </thead>\n",
       "  <tbody>\n",
       "    <tr>\n",
       "      <th>118</th>\n",
       "      <td>BOPQ.S06AC000000000A</td>\n",
       "      <td>2000.12</td>\n",
       "      <td>12820.0</td>\n",
       "      <td>NaN</td>\n",
       "      <td>F</td>\n",
       "      <td>Dollars</td>\n",
       "      <td>100</td>\n",
       "      <td>Balance of Payments - BOP</td>\n",
       "      <td>BPM6 Quarterly, Balance of payments major comp...</td>\n",
       "      <td>Actual</td>\n",
       "    </tr>\n",
       "    <tr>\n",
       "      <th>325</th>\n",
       "      <td>BOPQ.S06AC000000000B</td>\n",
       "      <td>2000.12</td>\n",
       "      <td>0.0</td>\n",
       "      <td>NaN</td>\n",
       "      <td>F</td>\n",
       "      <td>Dollars</td>\n",
       "      <td>100</td>\n",
       "      <td>Balance of Payments - BOP</td>\n",
       "      <td>BPM6 Quarterly, Balance of payments major comp...</td>\n",
       "      <td>Actual</td>\n",
       "    </tr>\n",
       "  </tbody>\n",
       "</table>\n",
       "</div>"
      ],
      "text/plain": [
       "         Series_reference   Period  Data_value  Suppressed STATUS    UNITS  \\\n",
       "118  BOPQ.S06AC000000000A  2000.12     12820.0         NaN      F  Dollars   \n",
       "325  BOPQ.S06AC000000000B  2000.12         0.0         NaN      F  Dollars   \n",
       "\n",
       "     MAGNTUDE                    Subject  \\\n",
       "118       100  Balance of Payments - BOP   \n",
       "325       100  Balance of Payments - BOP   \n",
       "\n",
       "                                                 Group Series_title_1  \n",
       "118  BPM6 Quarterly, Balance of payments major comp...         Actual  \n",
       "325  BPM6 Quarterly, Balance of payments major comp...         Actual  "
      ]
     },
     "execution_count": 10,
     "metadata": {},
     "output_type": "execute_result"
    }
   ],
   "source": [
    "df[(df.Period==2000.12)].head(2)"
   ]
  },
  {
   "cell_type": "code",
   "execution_count": 11,
   "metadata": {},
   "outputs": [],
   "source": [
    "#DROPEAR -> eliminar filas\n",
    "#Eliminar las filas cuyo valor de STATUS sea igual a F\n",
    "df = df.drop(df[(df.STATUS==\"F\")].index)"
   ]
  },
  {
   "cell_type": "code",
   "execution_count": 27,
   "metadata": {},
   "outputs": [],
   "source": [
    "df.to_csv(\"dataset_limpio.csv\", index=False)"
   ]
  },
  {
   "cell_type": "code",
   "execution_count": 30,
   "metadata": {},
   "outputs": [
    {
     "data": {
      "text/plain": [
       "Series_reference     object\n",
       "Period              float64\n",
       "Data_value          float64\n",
       "Suppressed          float64\n",
       "STATUS               object\n",
       "UNITS                object\n",
       "MAGNTUDE              int64\n",
       "Subject              object\n",
       "Group                object\n",
       "Series_title_1       object\n",
       "dtype: object"
      ]
     },
     "execution_count": 30,
     "metadata": {},
     "output_type": "execute_result"
    }
   ],
   "source": [
    "df.dtypes"
   ]
  },
  {
   "cell_type": "code",
   "execution_count": 14,
   "metadata": {},
   "outputs": [
    {
     "name": "stdout",
     "output_type": "stream",
     "text": [
      "Collecting fastparquet\n",
      "  Downloading fastparquet-2023.2.0-cp311-cp311-win_amd64.whl (615 kB)\n",
      "     ---------------------------------------- 0.0/615.1 kB ? eta -:--:--\n",
      "     ------------------------ ------------ 399.4/615.1 kB 12.6 MB/s eta 0:00:01\n",
      "     -------------------------------------- 615.1/615.1 kB 9.8 MB/s eta 0:00:00\n",
      "Requirement already satisfied: pandas>=1.5.0 in c:\\users\\enrique\\appdata\\local\\programs\\python\\python311\\lib\\site-packages (from fastparquet) (1.5.3)\n",
      "Requirement already satisfied: numpy>=1.20.3 in c:\\users\\enrique\\appdata\\local\\programs\\python\\python311\\lib\\site-packages (from fastparquet) (1.24.2)\n",
      "Collecting cramjam>=2.3\n",
      "  Downloading cramjam-2.6.2-cp311-none-win_amd64.whl (1.2 MB)\n",
      "     ---------------------------------------- 0.0/1.2 MB ? eta -:--:--\n",
      "     ------------------- -------------------- 0.6/1.2 MB 18.2 MB/s eta 0:00:01\n",
      "     ---------------------------------------  1.2/1.2 MB 15.8 MB/s eta 0:00:01\n",
      "     ---------------------------------------- 1.2/1.2 MB 13.2 MB/s eta 0:00:00\n",
      "Collecting fsspec\n",
      "  Downloading fsspec-2023.3.0-py3-none-any.whl (145 kB)\n",
      "     ---------------------------------------- 0.0/145.4 kB ? eta -:--:--\n",
      "     ---------------------------------------- 145.4/145.4 kB ? eta 0:00:00\n",
      "Requirement already satisfied: packaging in c:\\users\\enrique\\appdata\\roaming\\python\\python311\\site-packages (from fastparquet) (23.0)\n",
      "Requirement already satisfied: python-dateutil>=2.8.1 in c:\\users\\enrique\\appdata\\roaming\\python\\python311\\site-packages (from pandas>=1.5.0->fastparquet) (2.8.2)\n",
      "Requirement already satisfied: pytz>=2020.1 in c:\\users\\enrique\\appdata\\local\\programs\\python\\python311\\lib\\site-packages (from pandas>=1.5.0->fastparquet) (2022.7.1)\n",
      "Requirement already satisfied: six>=1.5 in c:\\users\\enrique\\appdata\\roaming\\python\\python311\\site-packages (from python-dateutil>=2.8.1->pandas>=1.5.0->fastparquet) (1.16.0)\n",
      "Installing collected packages: fsspec, cramjam, fastparquet\n",
      "Successfully installed cramjam-2.6.2 fastparquet-2023.2.0 fsspec-2023.3.0\n",
      "Note: you may need to restart the kernel to use updated packages.\n"
     ]
    }
   ],
   "source": [
    "pip install fastparquet"
   ]
  },
  {
   "cell_type": "code",
   "execution_count": 15,
   "metadata": {},
   "outputs": [],
   "source": [
    "#DATAFRAMES\n",
    "df = pd.read_csv(\"balance.csv\")\n",
    "df.to_parquet('sin_modificaciones.snappy.parquet', compression='snappy')"
   ]
  },
  {
   "cell_type": "code",
   "execution_count": 16,
   "metadata": {},
   "outputs": [
    {
     "data": {
      "text/html": [
       "<div>\n",
       "<style scoped>\n",
       "    .dataframe tbody tr th:only-of-type {\n",
       "        vertical-align: middle;\n",
       "    }\n",
       "\n",
       "    .dataframe tbody tr th {\n",
       "        vertical-align: top;\n",
       "    }\n",
       "\n",
       "    .dataframe thead th {\n",
       "        text-align: right;\n",
       "    }\n",
       "</style>\n",
       "<table border=\"1\" class=\"dataframe\">\n",
       "  <thead>\n",
       "    <tr style=\"text-align: right;\">\n",
       "      <th></th>\n",
       "      <th>Series_reference</th>\n",
       "      <th>Period</th>\n",
       "      <th>Data_value</th>\n",
       "      <th>Suppressed</th>\n",
       "      <th>STATUS</th>\n",
       "      <th>UNITS</th>\n",
       "      <th>MAGNTUDE</th>\n",
       "      <th>Subject</th>\n",
       "      <th>Group</th>\n",
       "      <th>Series_title_1</th>\n",
       "    </tr>\n",
       "  </thead>\n",
       "  <tbody>\n",
       "    <tr>\n",
       "      <th>0</th>\n",
       "      <td>BOPQ.S06AC000000000A</td>\n",
       "      <td>1971.06</td>\n",
       "      <td>426.0</td>\n",
       "      <td>NaN</td>\n",
       "      <td>F</td>\n",
       "      <td>Dollars</td>\n",
       "      <td>6</td>\n",
       "      <td>Balance of Payments - BOP</td>\n",
       "      <td>BPM6 Quarterly, Balance of payments major comp...</td>\n",
       "      <td>Actual</td>\n",
       "    </tr>\n",
       "    <tr>\n",
       "      <th>1</th>\n",
       "      <td>BOPQ.S06AC000000000A</td>\n",
       "      <td>1971.09</td>\n",
       "      <td>435.0</td>\n",
       "      <td>NaN</td>\n",
       "      <td>F</td>\n",
       "      <td>Dollars</td>\n",
       "      <td>6</td>\n",
       "      <td>Balance of Payments - BOP</td>\n",
       "      <td>BPM6 Quarterly, Balance of payments major comp...</td>\n",
       "      <td>Actual</td>\n",
       "    </tr>\n",
       "    <tr>\n",
       "      <th>2</th>\n",
       "      <td>BOPQ.S06AC000000000A</td>\n",
       "      <td>1971.12</td>\n",
       "      <td>360.0</td>\n",
       "      <td>NaN</td>\n",
       "      <td>F</td>\n",
       "      <td>Dollars</td>\n",
       "      <td>6</td>\n",
       "      <td>Balance of Payments - BOP</td>\n",
       "      <td>BPM6 Quarterly, Balance of payments major comp...</td>\n",
       "      <td>Actual</td>\n",
       "    </tr>\n",
       "    <tr>\n",
       "      <th>3</th>\n",
       "      <td>BOPQ.S06AC000000000A</td>\n",
       "      <td>1972.03</td>\n",
       "      <td>417.0</td>\n",
       "      <td>NaN</td>\n",
       "      <td>F</td>\n",
       "      <td>Dollars</td>\n",
       "      <td>6</td>\n",
       "      <td>Balance of Payments - BOP</td>\n",
       "      <td>BPM6 Quarterly, Balance of payments major comp...</td>\n",
       "      <td>Actual</td>\n",
       "    </tr>\n",
       "    <tr>\n",
       "      <th>4</th>\n",
       "      <td>BOPQ.S06AC000000000A</td>\n",
       "      <td>1972.06</td>\n",
       "      <td>528.0</td>\n",
       "      <td>NaN</td>\n",
       "      <td>F</td>\n",
       "      <td>Dollars</td>\n",
       "      <td>6</td>\n",
       "      <td>Balance of Payments - BOP</td>\n",
       "      <td>BPM6 Quarterly, Balance of payments major comp...</td>\n",
       "      <td>Actual</td>\n",
       "    </tr>\n",
       "    <tr>\n",
       "      <th>...</th>\n",
       "      <td>...</td>\n",
       "      <td>...</td>\n",
       "      <td>...</td>\n",
       "      <td>...</td>\n",
       "      <td>...</td>\n",
       "      <td>...</td>\n",
       "      <td>...</td>\n",
       "      <td>...</td>\n",
       "      <td>...</td>\n",
       "      <td>...</td>\n",
       "    </tr>\n",
       "    <tr>\n",
       "      <th>199580</th>\n",
       "      <td>IIPA.S06ALDDDDPO7706</td>\n",
       "      <td>2018.03</td>\n",
       "      <td>NaN</td>\n",
       "      <td>NaN</td>\n",
       "      <td>C</td>\n",
       "      <td>Dollars</td>\n",
       "      <td>6</td>\n",
       "      <td>International Investment Position - IIP</td>\n",
       "      <td>BPM6 Annual, Directional basis stock of total ...</td>\n",
       "      <td>Actual</td>\n",
       "    </tr>\n",
       "    <tr>\n",
       "      <th>199581</th>\n",
       "      <td>IIPA.S06ALDDDDPO7706</td>\n",
       "      <td>2019.03</td>\n",
       "      <td>NaN</td>\n",
       "      <td>NaN</td>\n",
       "      <td>C</td>\n",
       "      <td>Dollars</td>\n",
       "      <td>6</td>\n",
       "      <td>International Investment Position - IIP</td>\n",
       "      <td>BPM6 Annual, Directional basis stock of total ...</td>\n",
       "      <td>Actual</td>\n",
       "    </tr>\n",
       "    <tr>\n",
       "      <th>199582</th>\n",
       "      <td>IIPA.S06ALDDDDPO7706</td>\n",
       "      <td>2020.03</td>\n",
       "      <td>0.0</td>\n",
       "      <td>NaN</td>\n",
       "      <td>F</td>\n",
       "      <td>Dollars</td>\n",
       "      <td>6</td>\n",
       "      <td>International Investment Position - IIP</td>\n",
       "      <td>BPM6 Annual, Directional basis stock of total ...</td>\n",
       "      <td>Actual</td>\n",
       "    </tr>\n",
       "    <tr>\n",
       "      <th>199583</th>\n",
       "      <td>IIPA.S06ALDDDDPO7706</td>\n",
       "      <td>2021.03</td>\n",
       "      <td>NaN</td>\n",
       "      <td>NaN</td>\n",
       "      <td>C</td>\n",
       "      <td>Dollars</td>\n",
       "      <td>6</td>\n",
       "      <td>International Investment Position - IIP</td>\n",
       "      <td>BPM6 Annual, Directional basis stock of total ...</td>\n",
       "      <td>Actual</td>\n",
       "    </tr>\n",
       "    <tr>\n",
       "      <th>199584</th>\n",
       "      <td>IIPA.S06ALDDDDPO7706</td>\n",
       "      <td>2022.03</td>\n",
       "      <td>NaN</td>\n",
       "      <td>NaN</td>\n",
       "      <td>C</td>\n",
       "      <td>Dollars</td>\n",
       "      <td>6</td>\n",
       "      <td>International Investment Position - IIP</td>\n",
       "      <td>BPM6 Annual, Directional basis stock of total ...</td>\n",
       "      <td>Actual</td>\n",
       "    </tr>\n",
       "  </tbody>\n",
       "</table>\n",
       "<p>199585 rows × 10 columns</p>\n",
       "</div>"
      ],
      "text/plain": [
       "            Series_reference   Period  Data_value  Suppressed STATUS    UNITS  \\\n",
       "0       BOPQ.S06AC000000000A  1971.06       426.0         NaN      F  Dollars   \n",
       "1       BOPQ.S06AC000000000A  1971.09       435.0         NaN      F  Dollars   \n",
       "2       BOPQ.S06AC000000000A  1971.12       360.0         NaN      F  Dollars   \n",
       "3       BOPQ.S06AC000000000A  1972.03       417.0         NaN      F  Dollars   \n",
       "4       BOPQ.S06AC000000000A  1972.06       528.0         NaN      F  Dollars   \n",
       "...                      ...      ...         ...         ...    ...      ...   \n",
       "199580  IIPA.S06ALDDDDPO7706  2018.03         NaN         NaN      C  Dollars   \n",
       "199581  IIPA.S06ALDDDDPO7706  2019.03         NaN         NaN      C  Dollars   \n",
       "199582  IIPA.S06ALDDDDPO7706  2020.03         0.0         NaN      F  Dollars   \n",
       "199583  IIPA.S06ALDDDDPO7706  2021.03         NaN         NaN      C  Dollars   \n",
       "199584  IIPA.S06ALDDDDPO7706  2022.03         NaN         NaN      C  Dollars   \n",
       "\n",
       "        MAGNTUDE                                  Subject  \\\n",
       "0              6                Balance of Payments - BOP   \n",
       "1              6                Balance of Payments - BOP   \n",
       "2              6                Balance of Payments - BOP   \n",
       "3              6                Balance of Payments - BOP   \n",
       "4              6                Balance of Payments - BOP   \n",
       "...          ...                                      ...   \n",
       "199580         6  International Investment Position - IIP   \n",
       "199581         6  International Investment Position - IIP   \n",
       "199582         6  International Investment Position - IIP   \n",
       "199583         6  International Investment Position - IIP   \n",
       "199584         6  International Investment Position - IIP   \n",
       "\n",
       "                                                    Group Series_title_1  \n",
       "0       BPM6 Quarterly, Balance of payments major comp...         Actual  \n",
       "1       BPM6 Quarterly, Balance of payments major comp...         Actual  \n",
       "2       BPM6 Quarterly, Balance of payments major comp...         Actual  \n",
       "3       BPM6 Quarterly, Balance of payments major comp...         Actual  \n",
       "4       BPM6 Quarterly, Balance of payments major comp...         Actual  \n",
       "...                                                   ...            ...  \n",
       "199580  BPM6 Annual, Directional basis stock of total ...         Actual  \n",
       "199581  BPM6 Annual, Directional basis stock of total ...         Actual  \n",
       "199582  BPM6 Annual, Directional basis stock of total ...         Actual  \n",
       "199583  BPM6 Annual, Directional basis stock of total ...         Actual  \n",
       "199584  BPM6 Annual, Directional basis stock of total ...         Actual  \n",
       "\n",
       "[199585 rows x 10 columns]"
      ]
     },
     "execution_count": 16,
     "metadata": {},
     "output_type": "execute_result"
    }
   ],
   "source": [
    "pd.read_parquet('sin_modificaciones.snappy.parquet', engine='pyarrow')"
   ]
  }
 ],
 "metadata": {
  "kernelspec": {
   "display_name": "Python 3",
   "language": "python",
   "name": "python3"
  },
  "language_info": {
   "codemirror_mode": {
    "name": "ipython",
    "version": 3
   },
   "file_extension": ".py",
   "mimetype": "text/x-python",
   "name": "python",
   "nbconvert_exporter": "python",
   "pygments_lexer": "ipython3",
   "version": "3.11.2"
  },
  "orig_nbformat": 4
 },
 "nbformat": 4,
 "nbformat_minor": 2
}
